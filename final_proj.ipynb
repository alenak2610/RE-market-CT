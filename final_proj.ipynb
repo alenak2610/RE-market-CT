{
 "cells": [
  {
   "cell_type": "code",
   "execution_count": 10,
   "id": "73f3854c-54ad-4415-a9c4-7549df0fb60a",
   "metadata": {},
   "outputs": [],
   "source": [
    "import pandas as pd\n",
    "import numpy as np\n",
    "from numpy import random\n",
    "import matplotlib.pyplot as plt"
   ]
  },
  {
   "cell_type": "code",
   "execution_count": 11,
   "id": "b1e0b816-a38a-4600-8fa2-1556a0deb7ad",
   "metadata": {},
   "outputs": [],
   "source": [
    "dtype_housing = {'Serial Number': int,\n",
    "    'List Year': int,\n",
    "    'Date Recorded': str,\n",
    "    'Town': str,\n",
    "    'Address': str,\n",
    "    'Assessed Value': float,\n",
    "    'Sale Amount': float,\n",
    "    'Sales Ratio': float,\n",
    "    'Property Type': str,\n",
    "    'Residential Type': str,\n",
    "    'Non Use Code': str,\n",
    "    'Assessor Remarks': str,\n",
    "    'OPM remarks': str,\n",
    "    'Location': str}"
   ]
  },
  {
   "cell_type": "code",
   "execution_count": 13,
   "id": "c67db507-fe99-4933-9341-5e6d00e02c01",
   "metadata": {},
   "outputs": [],
   "source": [
    "housing_df = pd.read_csv('House Prices 2001-2020 in CT.csv', dtype=dtype_housing)"
   ]
  },
  {
   "cell_type": "code",
   "execution_count": 15,
   "id": "a6248693-b462-45c1-811d-c91bcd3aba3b",
   "metadata": {},
   "outputs": [],
   "source": [
    "ctDOT_df = pd.read_csv('CTDOT_State_Routes_and_Local_Roads.csv')"
   ]
  },
  {
   "cell_type": "code",
   "execution_count": null,
   "id": "98a5016a-f3ff-43c7-a60a-c7d4cbd6e43b",
   "metadata": {},
   "outputs": [],
   "source": []
  }
 ],
 "metadata": {
  "kernelspec": {
   "display_name": "Python 3 (ipykernel)",
   "language": "python",
   "name": "python3"
  },
  "language_info": {
   "codemirror_mode": {
    "name": "ipython",
    "version": 3
   },
   "file_extension": ".py",
   "mimetype": "text/x-python",
   "name": "python",
   "nbconvert_exporter": "python",
   "pygments_lexer": "ipython3",
   "version": "3.8.18"
  }
 },
 "nbformat": 4,
 "nbformat_minor": 5
}

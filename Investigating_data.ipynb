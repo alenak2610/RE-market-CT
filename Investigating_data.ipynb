{
 "cells": [
  {
   "cell_type": "code",
   "execution_count": 5,
   "id": "35b5b556-680e-4db7-bec9-a42f2a8af5f3",
   "metadata": {},
   "outputs": [],
   "source": [
    "import pandas as pd\n",
    "import calendar\n",
    "import numpy as np\n",
    "import datetime\n",
    "from numpy import random\n",
    "import matplotlib.pyplot as plt\n",
    "import seaborn as sns"
   ]
  },
  {
   "cell_type": "code",
   "execution_count": 6,
   "id": "0d8d58ac-f6df-4069-badd-21ff149e7b8d",
   "metadata": {},
   "outputs": [],
   "source": [
    "dtype_housing = {'Serial Number': int,\n",
    "    'List Year': int,\n",
    "    'Date Recorded': str,\n",
    "    'Town': str,\n",
    "    'Address': str,\n",
    "    'Assessed Value': float,\n",
    "    'Sale Amount': float,\n",
    "    'Sales Ratio': float,\n",
    "    'Property Type': str,\n",
    "    'Residential Type': str,\n",
    "    'Non Use Code': str,\n",
    "    'Assessor Remarks': str,\n",
    "    'OPM remarks': str,\n",
    "    'Location': str}"
   ]
  },
  {
   "cell_type": "code",
   "execution_count": 12,
   "id": "c2568b69-17f1-4e85-8e64-23ee3d8723ae",
   "metadata": {},
   "outputs": [],
   "source": [
    "# importing all datasets\n",
    "housing_df = pd.read_csv('House Prices 2001-2020 in CT.csv', dtype=dtype_housing)\n",
    "ctdot_df = pd.read_csv('CTDOT_State_Routes_and_Local_Roads.csv')\n",
    "house_size_df = pd.read_csv('CT house sizes_sold_2001_2020.csv')"
   ]
  },
  {
   "cell_type": "code",
   "execution_count": 25,
   "id": "15b62376-69d8-4405-9109-de1264c217f3",
   "metadata": {},
   "outputs": [
    {
     "data": {
      "text/html": [
       "<div>\n",
       "<style scoped>\n",
       "    .dataframe tbody tr th:only-of-type {\n",
       "        vertical-align: middle;\n",
       "    }\n",
       "\n",
       "    .dataframe tbody tr th {\n",
       "        vertical-align: top;\n",
       "    }\n",
       "\n",
       "    .dataframe thead th {\n",
       "        text-align: right;\n",
       "    }\n",
       "</style>\n",
       "<table border=\"1\" class=\"dataframe\">\n",
       "  <thead>\n",
       "    <tr style=\"text-align: right;\">\n",
       "      <th></th>\n",
       "      <th>Serial Number</th>\n",
       "      <th>List Year</th>\n",
       "      <th>Date Recorded</th>\n",
       "      <th>Town</th>\n",
       "      <th>Address</th>\n",
       "      <th>Assessed Value</th>\n",
       "      <th>Sale Amount</th>\n",
       "      <th>Sales Ratio</th>\n",
       "      <th>Property Type</th>\n",
       "      <th>Residential Type</th>\n",
       "      <th>Non Use Code</th>\n",
       "      <th>Assessor Remarks</th>\n",
       "      <th>OPM remarks</th>\n",
       "      <th>Location</th>\n",
       "    </tr>\n",
       "  </thead>\n",
       "  <tbody>\n",
       "    <tr>\n",
       "      <th>0</th>\n",
       "      <td>2020177</td>\n",
       "      <td>2020</td>\n",
       "      <td>4/14/2021</td>\n",
       "      <td>Ansonia</td>\n",
       "      <td>323 BEAVER ST</td>\n",
       "      <td>133000.0</td>\n",
       "      <td>248400.0</td>\n",
       "      <td>0.5354</td>\n",
       "      <td>Residential</td>\n",
       "      <td>Single Family</td>\n",
       "      <td>NaN</td>\n",
       "      <td>NaN</td>\n",
       "      <td>NaN</td>\n",
       "      <td>POINT (-73.06822 41.35014)</td>\n",
       "    </tr>\n",
       "    <tr>\n",
       "      <th>1</th>\n",
       "      <td>2020225</td>\n",
       "      <td>2020</td>\n",
       "      <td>5/26/2021</td>\n",
       "      <td>Ansonia</td>\n",
       "      <td>152 JACKSON ST</td>\n",
       "      <td>110500.0</td>\n",
       "      <td>239900.0</td>\n",
       "      <td>0.4606</td>\n",
       "      <td>Residential</td>\n",
       "      <td>Three Family</td>\n",
       "      <td>NaN</td>\n",
       "      <td>NaN</td>\n",
       "      <td>NaN</td>\n",
       "      <td>NaN</td>\n",
       "    </tr>\n",
       "    <tr>\n",
       "      <th>2</th>\n",
       "      <td>2020348</td>\n",
       "      <td>2020</td>\n",
       "      <td>9/13/2021</td>\n",
       "      <td>Ansonia</td>\n",
       "      <td>230 WAKELEE AVE</td>\n",
       "      <td>150500.0</td>\n",
       "      <td>325000.0</td>\n",
       "      <td>0.4630</td>\n",
       "      <td>Commercial</td>\n",
       "      <td>NaN</td>\n",
       "      <td>NaN</td>\n",
       "      <td>NaN</td>\n",
       "      <td>NaN</td>\n",
       "      <td>NaN</td>\n",
       "    </tr>\n",
       "    <tr>\n",
       "      <th>3</th>\n",
       "      <td>2020090</td>\n",
       "      <td>2020</td>\n",
       "      <td>12/14/2020</td>\n",
       "      <td>Ansonia</td>\n",
       "      <td>57 PLATT ST</td>\n",
       "      <td>127400.0</td>\n",
       "      <td>202500.0</td>\n",
       "      <td>0.6291</td>\n",
       "      <td>Residential</td>\n",
       "      <td>Two Family</td>\n",
       "      <td>NaN</td>\n",
       "      <td>NaN</td>\n",
       "      <td>NaN</td>\n",
       "      <td>NaN</td>\n",
       "    </tr>\n",
       "    <tr>\n",
       "      <th>4</th>\n",
       "      <td>200500</td>\n",
       "      <td>2020</td>\n",
       "      <td>9/7/2021</td>\n",
       "      <td>Avon</td>\n",
       "      <td>245 NEW ROAD</td>\n",
       "      <td>217640.0</td>\n",
       "      <td>400000.0</td>\n",
       "      <td>0.5441</td>\n",
       "      <td>Residential</td>\n",
       "      <td>Single Family</td>\n",
       "      <td>NaN</td>\n",
       "      <td>NaN</td>\n",
       "      <td>NaN</td>\n",
       "      <td>NaN</td>\n",
       "    </tr>\n",
       "  </tbody>\n",
       "</table>\n",
       "</div>"
      ],
      "text/plain": [
       "   Serial Number  List Year Date Recorded     Town          Address  \\\n",
       "0        2020177       2020     4/14/2021  Ansonia    323 BEAVER ST   \n",
       "1        2020225       2020     5/26/2021  Ansonia   152 JACKSON ST   \n",
       "2        2020348       2020     9/13/2021  Ansonia  230 WAKELEE AVE   \n",
       "3        2020090       2020    12/14/2020  Ansonia      57 PLATT ST   \n",
       "4         200500       2020      9/7/2021     Avon     245 NEW ROAD   \n",
       "\n",
       "   Assessed Value  Sale Amount  Sales Ratio Property Type Residential Type  \\\n",
       "0        133000.0     248400.0       0.5354   Residential    Single Family   \n",
       "1        110500.0     239900.0       0.4606   Residential     Three Family   \n",
       "2        150500.0     325000.0       0.4630    Commercial              NaN   \n",
       "3        127400.0     202500.0       0.6291   Residential       Two Family   \n",
       "4        217640.0     400000.0       0.5441   Residential    Single Family   \n",
       "\n",
       "  Non Use Code Assessor Remarks OPM remarks                    Location  \n",
       "0          NaN              NaN         NaN  POINT (-73.06822 41.35014)  \n",
       "1          NaN              NaN         NaN                         NaN  \n",
       "2          NaN              NaN         NaN                         NaN  \n",
       "3          NaN              NaN         NaN                         NaN  \n",
       "4          NaN              NaN         NaN                         NaN  "
      ]
     },
     "execution_count": 25,
     "metadata": {},
     "output_type": "execute_result"
    }
   ],
   "source": [
    "# understanding the datasets\n",
    "housing_df.head()"
   ]
  },
  {
   "cell_type": "code",
   "execution_count": 16,
   "id": "4b482068-1270-40ab-a928-d3c959a01334",
   "metadata": {},
   "outputs": [
    {
     "data": {
      "text/html": [
       "<div>\n",
       "<style scoped>\n",
       "    .dataframe tbody tr th:only-of-type {\n",
       "        vertical-align: middle;\n",
       "    }\n",
       "\n",
       "    .dataframe tbody tr th {\n",
       "        vertical-align: top;\n",
       "    }\n",
       "\n",
       "    .dataframe thead th {\n",
       "        text-align: right;\n",
       "    }\n",
       "</style>\n",
       "<table border=\"1\" class=\"dataframe\">\n",
       "  <thead>\n",
       "    <tr style=\"text-align: right;\">\n",
       "      <th></th>\n",
       "      <th>OBJECTID</th>\n",
       "      <th>ROUTE_ID</th>\n",
       "      <th>BEGIN_POINT</th>\n",
       "      <th>END_POINT</th>\n",
       "      <th>ROUTE_DIR</th>\n",
       "      <th>ROUTE_PREFIX</th>\n",
       "      <th>ROUTE_NUMBER</th>\n",
       "      <th>ROUTE_SUFFIX</th>\n",
       "      <th>RAMP_NUMBER</th>\n",
       "      <th>RAMP_SUFFIX</th>\n",
       "      <th>ROAD_TYPE</th>\n",
       "      <th>TOWN_NUMBER</th>\n",
       "      <th>TOWN_NAME</th>\n",
       "      <th>PRI_SEC_STATUS</th>\n",
       "      <th>YEAR</th>\n",
       "      <th>GlobalID</th>\n",
       "      <th>Shape__Length</th>\n",
       "    </tr>\n",
       "  </thead>\n",
       "  <tbody>\n",
       "    <tr>\n",
       "      <th>0</th>\n",
       "      <td>43017</td>\n",
       "      <td>15-S</td>\n",
       "      <td>52.11</td>\n",
       "      <td>56.54</td>\n",
       "      <td>R</td>\n",
       "      <td>CT</td>\n",
       "      <td>15</td>\n",
       "      <td>NaN</td>\n",
       "      <td>NaN</td>\n",
       "      <td>NaN</td>\n",
       "      <td>M</td>\n",
       "      <td>100</td>\n",
       "      <td>NORTH HAVEN</td>\n",
       "      <td>PRI</td>\n",
       "      <td>2022</td>\n",
       "      <td>ce50219e-84e5-4a55-a852-02442a8069b3</td>\n",
       "      <td>23376.295420</td>\n",
       "    </tr>\n",
       "    <tr>\n",
       "      <th>1</th>\n",
       "      <td>43018</td>\n",
       "      <td>154-N</td>\n",
       "      <td>7.10</td>\n",
       "      <td>9.43</td>\n",
       "      <td>L</td>\n",
       "      <td>CT</td>\n",
       "      <td>154</td>\n",
       "      <td>NaN</td>\n",
       "      <td>NaN</td>\n",
       "      <td>NaN</td>\n",
       "      <td>M</td>\n",
       "      <td>105</td>\n",
       "      <td>OLD SAYBROOK</td>\n",
       "      <td>PRI</td>\n",
       "      <td>2022</td>\n",
       "      <td>fac1e696-ee08-40f7-a872-ec3eb074d35f</td>\n",
       "      <td>12310.306110</td>\n",
       "    </tr>\n",
       "    <tr>\n",
       "      <th>2</th>\n",
       "      <td>43019</td>\n",
       "      <td>154-S</td>\n",
       "      <td>11.78</td>\n",
       "      <td>11.94</td>\n",
       "      <td>R</td>\n",
       "      <td>CT</td>\n",
       "      <td>154</td>\n",
       "      <td>NaN</td>\n",
       "      <td>NaN</td>\n",
       "      <td>NaN</td>\n",
       "      <td>M</td>\n",
       "      <td>49</td>\n",
       "      <td>ESSEX</td>\n",
       "      <td>PRI</td>\n",
       "      <td>2022</td>\n",
       "      <td>086a01b8-8e3c-4cbe-bb6b-f6f309e555ac</td>\n",
       "      <td>706.935452</td>\n",
       "    </tr>\n",
       "    <tr>\n",
       "      <th>3</th>\n",
       "      <td>43020</td>\n",
       "      <td>155-E</td>\n",
       "      <td>0.00</td>\n",
       "      <td>2.22</td>\n",
       "      <td>L</td>\n",
       "      <td>CT</td>\n",
       "      <td>155</td>\n",
       "      <td>NaN</td>\n",
       "      <td>NaN</td>\n",
       "      <td>NaN</td>\n",
       "      <td>M</td>\n",
       "      <td>82</td>\n",
       "      <td>MIDDLETOWN</td>\n",
       "      <td>PRI</td>\n",
       "      <td>2022</td>\n",
       "      <td>429c35dd-e6fb-45a5-86b5-6a92eadbcf24</td>\n",
       "      <td>11757.200000</td>\n",
       "    </tr>\n",
       "    <tr>\n",
       "      <th>4</th>\n",
       "      <td>43021</td>\n",
       "      <td>165L-W</td>\n",
       "      <td>0.00</td>\n",
       "      <td>0.05</td>\n",
       "      <td>L</td>\n",
       "      <td>SP</td>\n",
       "      <td>165</td>\n",
       "      <td>L</td>\n",
       "      <td>NaN</td>\n",
       "      <td>NaN</td>\n",
       "      <td>M</td>\n",
       "      <td>97</td>\n",
       "      <td>NORFOLK</td>\n",
       "      <td>PRI</td>\n",
       "      <td>2022</td>\n",
       "      <td>ebc85281-9a32-4dc6-b136-9a54b17cc1b8</td>\n",
       "      <td>276.716921</td>\n",
       "    </tr>\n",
       "  </tbody>\n",
       "</table>\n",
       "</div>"
      ],
      "text/plain": [
       "   OBJECTID ROUTE_ID  BEGIN_POINT  END_POINT ROUTE_DIR ROUTE_PREFIX  \\\n",
       "0     43017     15-S        52.11      56.54         R           CT   \n",
       "1     43018    154-N         7.10       9.43         L           CT   \n",
       "2     43019    154-S        11.78      11.94         R           CT   \n",
       "3     43020    155-E         0.00       2.22         L           CT   \n",
       "4     43021   165L-W         0.00       0.05         L           SP   \n",
       "\n",
       "  ROUTE_NUMBER ROUTE_SUFFIX  RAMP_NUMBER RAMP_SUFFIX ROAD_TYPE  TOWN_NUMBER  \\\n",
       "0           15          NaN          NaN         NaN         M          100   \n",
       "1          154          NaN          NaN         NaN         M          105   \n",
       "2          154          NaN          NaN         NaN         M           49   \n",
       "3          155          NaN          NaN         NaN         M           82   \n",
       "4          165            L          NaN         NaN         M           97   \n",
       "\n",
       "      TOWN_NAME PRI_SEC_STATUS  YEAR                              GlobalID  \\\n",
       "0   NORTH HAVEN            PRI  2022  ce50219e-84e5-4a55-a852-02442a8069b3   \n",
       "1  OLD SAYBROOK            PRI  2022  fac1e696-ee08-40f7-a872-ec3eb074d35f   \n",
       "2         ESSEX            PRI  2022  086a01b8-8e3c-4cbe-bb6b-f6f309e555ac   \n",
       "3    MIDDLETOWN            PRI  2022  429c35dd-e6fb-45a5-86b5-6a92eadbcf24   \n",
       "4       NORFOLK            PRI  2022  ebc85281-9a32-4dc6-b136-9a54b17cc1b8   \n",
       "\n",
       "   Shape__Length  \n",
       "0   23376.295420  \n",
       "1   12310.306110  \n",
       "2     706.935452  \n",
       "3   11757.200000  \n",
       "4     276.716921  "
      ]
     },
     "execution_count": 16,
     "metadata": {},
     "output_type": "execute_result"
    }
   ],
   "source": [
    "ctdot_df.head()"
   ]
  },
  {
   "cell_type": "code",
   "execution_count": 17,
   "id": "8a1fc7ea-82c1-4570-a552-9eeb6bd5f1ad",
   "metadata": {},
   "outputs": [
    {
     "data": {
      "text/html": [
       "<div>\n",
       "<style scoped>\n",
       "    .dataframe tbody tr th:only-of-type {\n",
       "        vertical-align: middle;\n",
       "    }\n",
       "\n",
       "    .dataframe tbody tr th {\n",
       "        vertical-align: top;\n",
       "    }\n",
       "\n",
       "    .dataframe thead th {\n",
       "        text-align: right;\n",
       "    }\n",
       "</style>\n",
       "<table border=\"1\" class=\"dataframe\">\n",
       "  <thead>\n",
       "    <tr style=\"text-align: right;\">\n",
       "      <th></th>\n",
       "      <th>status</th>\n",
       "      <th>bed</th>\n",
       "      <th>bath</th>\n",
       "      <th>acre_lot</th>\n",
       "      <th>city</th>\n",
       "      <th>state</th>\n",
       "      <th>zip_code</th>\n",
       "      <th>house_size</th>\n",
       "      <th>prev_sold_date</th>\n",
       "      <th>price</th>\n",
       "    </tr>\n",
       "  </thead>\n",
       "  <tbody>\n",
       "    <tr>\n",
       "      <th>0</th>\n",
       "      <td>for_sale</td>\n",
       "      <td>1.0</td>\n",
       "      <td>1.0</td>\n",
       "      <td>NaN</td>\n",
       "      <td>Willington</td>\n",
       "      <td>Connecticut</td>\n",
       "      <td>6279</td>\n",
       "      <td>680</td>\n",
       "      <td>8/16/2019</td>\n",
       "      <td>65000</td>\n",
       "    </tr>\n",
       "    <tr>\n",
       "      <th>1</th>\n",
       "      <td>for_sale</td>\n",
       "      <td>2.0</td>\n",
       "      <td>1.0</td>\n",
       "      <td>0.91</td>\n",
       "      <td>East Windsor</td>\n",
       "      <td>Connecticut</td>\n",
       "      <td>6016</td>\n",
       "      <td>960</td>\n",
       "      <td>6/6/2012</td>\n",
       "      <td>215000</td>\n",
       "    </tr>\n",
       "    <tr>\n",
       "      <th>2</th>\n",
       "      <td>for_sale</td>\n",
       "      <td>2.0</td>\n",
       "      <td>1.0</td>\n",
       "      <td>0.36</td>\n",
       "      <td>Vernon</td>\n",
       "      <td>Connecticut</td>\n",
       "      <td>6066</td>\n",
       "      <td>860</td>\n",
       "      <td>9/2/2016</td>\n",
       "      <td>144900</td>\n",
       "    </tr>\n",
       "    <tr>\n",
       "      <th>3</th>\n",
       "      <td>for_sale</td>\n",
       "      <td>2.0</td>\n",
       "      <td>2.0</td>\n",
       "      <td>NaN</td>\n",
       "      <td>South Windsor</td>\n",
       "      <td>Connecticut</td>\n",
       "      <td>6074</td>\n",
       "      <td>1168</td>\n",
       "      <td>12/28/2020</td>\n",
       "      <td>172500</td>\n",
       "    </tr>\n",
       "    <tr>\n",
       "      <th>4</th>\n",
       "      <td>for_sale</td>\n",
       "      <td>3.0</td>\n",
       "      <td>3.0</td>\n",
       "      <td>0.92</td>\n",
       "      <td>Ellington</td>\n",
       "      <td>Connecticut</td>\n",
       "      <td>6029</td>\n",
       "      <td>1960</td>\n",
       "      <td>6/28/2010</td>\n",
       "      <td>349900</td>\n",
       "    </tr>\n",
       "  </tbody>\n",
       "</table>\n",
       "</div>"
      ],
      "text/plain": [
       "     status  bed  bath  acre_lot           city        state  zip_code  \\\n",
       "0  for_sale  1.0   1.0       NaN     Willington  Connecticut      6279   \n",
       "1  for_sale  2.0   1.0      0.91   East Windsor  Connecticut      6016   \n",
       "2  for_sale  2.0   1.0      0.36         Vernon  Connecticut      6066   \n",
       "3  for_sale  2.0   2.0       NaN  South Windsor  Connecticut      6074   \n",
       "4  for_sale  3.0   3.0      0.92      Ellington  Connecticut      6029   \n",
       "\n",
       "   house_size prev_sold_date   price  \n",
       "0         680      8/16/2019   65000  \n",
       "1         960       6/6/2012  215000  \n",
       "2         860       9/2/2016  144900  \n",
       "3        1168     12/28/2020  172500  \n",
       "4        1960      6/28/2010  349900  "
      ]
     },
     "execution_count": 17,
     "metadata": {},
     "output_type": "execute_result"
    }
   ],
   "source": [
    "house_size_df.head()"
   ]
  },
  {
   "cell_type": "code",
   "execution_count": 23,
   "id": "1a4ac87a-9c44-4bbb-acd1-446493cd87ed",
   "metadata": {},
   "outputs": [
    {
     "data": {
      "text/plain": [
       "(997213, 14)"
      ]
     },
     "execution_count": 23,
     "metadata": {},
     "output_type": "execute_result"
    }
   ],
   "source": [
    "housing_df.shape"
   ]
  },
  {
   "cell_type": "code",
   "execution_count": 22,
   "id": "82c0f4ba-5e6f-4ae8-9cd6-fa883f4a6af9",
   "metadata": {},
   "outputs": [
    {
     "data": {
      "text/plain": [
       "(4338, 17)"
      ]
     },
     "execution_count": 22,
     "metadata": {},
     "output_type": "execute_result"
    }
   ],
   "source": [
    "ctdot_df.shape"
   ]
  },
  {
   "cell_type": "code",
   "execution_count": 24,
   "id": "fc0631dd-5a61-45c9-b10a-5eb289ac4262",
   "metadata": {},
   "outputs": [
    {
     "data": {
      "text/plain": [
       "(43121, 10)"
      ]
     },
     "execution_count": 24,
     "metadata": {},
     "output_type": "execute_result"
    }
   ],
   "source": [
    "house_size_df.shape"
   ]
  },
  {
   "cell_type": "code",
   "execution_count": 32,
   "id": "401c8253-9f8f-4ab1-8d14-5ae21c1929ee",
   "metadata": {},
   "outputs": [
    {
     "name": "stdout",
     "output_type": "stream",
     "text": [
      "<class 'pandas.core.frame.DataFrame'>\n",
      "RangeIndex: 997213 entries, 0 to 997212\n",
      "Data columns (total 14 columns):\n",
      " #   Column            Non-Null Count   Dtype  \n",
      "---  ------            --------------   -----  \n",
      " 0   Serial Number     997213 non-null  int32  \n",
      " 1   List Year         997213 non-null  int32  \n",
      " 2   Date Recorded     997211 non-null  object \n",
      " 3   Town              997213 non-null  object \n",
      " 4   Address           997162 non-null  object \n",
      " 5   Assessed Value    997213 non-null  float64\n",
      " 6   Sale Amount       997213 non-null  float64\n",
      " 7   Sales Ratio       997213 non-null  float64\n",
      " 8   Property Type     614767 non-null  object \n",
      " 9   Residential Type  608904 non-null  object \n",
      " 10  Non Use Code      289681 non-null  object \n",
      " 11  Assessor Remarks  149864 non-null  object \n",
      " 12  OPM remarks       9934 non-null    object \n",
      " 13  Location          197697 non-null  object \n",
      "dtypes: float64(3), int32(2), object(9)\n",
      "memory usage: 98.9+ MB\n"
     ]
    }
   ],
   "source": [
    "housing_df.info()"
   ]
  },
  {
   "cell_type": "code",
   "execution_count": 33,
   "id": "c38ed1d1-c701-4f7c-bfbe-24c8f0b20940",
   "metadata": {},
   "outputs": [
    {
     "name": "stdout",
     "output_type": "stream",
     "text": [
      "<class 'pandas.core.frame.DataFrame'>\n",
      "RangeIndex: 4338 entries, 0 to 4337\n",
      "Data columns (total 17 columns):\n",
      " #   Column          Non-Null Count  Dtype  \n",
      "---  ------          --------------  -----  \n",
      " 0   OBJECTID        4338 non-null   int64  \n",
      " 1   ROUTE_ID        4338 non-null   object \n",
      " 2   BEGIN_POINT     4338 non-null   float64\n",
      " 3   END_POINT       4338 non-null   float64\n",
      " 4   ROUTE_DIR       4338 non-null   object \n",
      " 5   ROUTE_PREFIX    4338 non-null   object \n",
      " 6   ROUTE_NUMBER    4338 non-null   object \n",
      " 7   ROUTE_SUFFIX    601 non-null    object \n",
      " 8   RAMP_NUMBER     1919 non-null   float64\n",
      " 9   RAMP_SUFFIX     267 non-null    object \n",
      " 10  ROAD_TYPE       4338 non-null   object \n",
      " 11  TOWN_NUMBER     4338 non-null   int64  \n",
      " 12  TOWN_NAME       4338 non-null   object \n",
      " 13  PRI_SEC_STATUS  4338 non-null   object \n",
      " 14  YEAR            4338 non-null   int64  \n",
      " 15  GlobalID        4338 non-null   object \n",
      " 16  Shape__Length   4338 non-null   float64\n",
      "dtypes: float64(4), int64(3), object(10)\n",
      "memory usage: 576.3+ KB\n"
     ]
    }
   ],
   "source": [
    "ctdot_df.info()"
   ]
  },
  {
   "cell_type": "code",
   "execution_count": 34,
   "id": "b102fb93-4a2d-4157-9227-fcd8c2baf59b",
   "metadata": {},
   "outputs": [
    {
     "name": "stdout",
     "output_type": "stream",
     "text": [
      "<class 'pandas.core.frame.DataFrame'>\n",
      "RangeIndex: 43121 entries, 0 to 43120\n",
      "Data columns (total 10 columns):\n",
      " #   Column          Non-Null Count  Dtype  \n",
      "---  ------          --------------  -----  \n",
      " 0   status          43121 non-null  object \n",
      " 1   bed             42499 non-null  float64\n",
      " 2   bath            42465 non-null  float64\n",
      " 3   acre_lot        36590 non-null  float64\n",
      " 4   city            43121 non-null  object \n",
      " 5   state           43121 non-null  object \n",
      " 6   zip_code        43121 non-null  int64  \n",
      " 7   house_size      43121 non-null  int64  \n",
      " 8   prev_sold_date  43121 non-null  object \n",
      " 9   price           43121 non-null  int64  \n",
      "dtypes: float64(3), int64(3), object(4)\n",
      "memory usage: 3.3+ MB\n"
     ]
    }
   ],
   "source": [
    "house_size_df.info()"
   ]
  },
  {
   "cell_type": "code",
   "execution_count": 35,
   "id": "0d813fcf-6f0c-4a09-9095-32a4b64b3947",
   "metadata": {},
   "outputs": [
    {
     "data": {
      "text/plain": [
       "Serial Number            0\n",
       "List Year                0\n",
       "Date Recorded            2\n",
       "Town                     0\n",
       "Address                 51\n",
       "Assessed Value           0\n",
       "Sale Amount              0\n",
       "Sales Ratio              0\n",
       "Property Type       382446\n",
       "Residential Type    388309\n",
       "Non Use Code        707532\n",
       "Assessor Remarks    847349\n",
       "OPM remarks         987279\n",
       "Location            799516\n",
       "dtype: int64"
      ]
     },
     "execution_count": 35,
     "metadata": {},
     "output_type": "execute_result"
    }
   ],
   "source": [
    "# missing values in the datasets\n",
    "housing_df.isnull().sum()"
   ]
  },
  {
   "cell_type": "code",
   "execution_count": 36,
   "id": "3c7f0e9b-8d89-4190-9044-c6b92d7f2a32",
   "metadata": {},
   "outputs": [
    {
     "data": {
      "text/plain": [
       "OBJECTID             0\n",
       "ROUTE_ID             0\n",
       "BEGIN_POINT          0\n",
       "END_POINT            0\n",
       "ROUTE_DIR            0\n",
       "ROUTE_PREFIX         0\n",
       "ROUTE_NUMBER         0\n",
       "ROUTE_SUFFIX      3737\n",
       "RAMP_NUMBER       2419\n",
       "RAMP_SUFFIX       4071\n",
       "ROAD_TYPE            0\n",
       "TOWN_NUMBER          0\n",
       "TOWN_NAME            0\n",
       "PRI_SEC_STATUS       0\n",
       "YEAR                 0\n",
       "GlobalID             0\n",
       "Shape__Length        0\n",
       "dtype: int64"
      ]
     },
     "execution_count": 36,
     "metadata": {},
     "output_type": "execute_result"
    }
   ],
   "source": [
    "ctdot_df.isnull().sum()"
   ]
  },
  {
   "cell_type": "code",
   "execution_count": 31,
   "id": "10a76d15-9a03-479a-a795-2af7d17b391e",
   "metadata": {},
   "outputs": [
    {
     "data": {
      "text/plain": [
       "status               0\n",
       "bed                622\n",
       "bath               656\n",
       "acre_lot          6531\n",
       "city                 0\n",
       "state                0\n",
       "zip_code             0\n",
       "house_size           0\n",
       "prev_sold_date       0\n",
       "price                0\n",
       "dtype: int64"
      ]
     },
     "execution_count": 31,
     "metadata": {},
     "output_type": "execute_result"
    }
   ],
   "source": [
    "house_size_df.isnull().sum()"
   ]
  }
 ],
 "metadata": {
  "kernelspec": {
   "display_name": "Python 3 (ipykernel)",
   "language": "python",
   "name": "python3"
  },
  "language_info": {
   "codemirror_mode": {
    "name": "ipython",
    "version": 3
   },
   "file_extension": ".py",
   "mimetype": "text/x-python",
   "name": "python",
   "nbconvert_exporter": "python",
   "pygments_lexer": "ipython3",
   "version": "3.8.18"
  }
 },
 "nbformat": 4,
 "nbformat_minor": 5
}

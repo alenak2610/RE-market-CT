{
 "cells": [
  {
   "cell_type": "code",
   "execution_count": 24,
   "id": "af14ae02-33ca-4f93-b924-e7c7529c25a4",
   "metadata": {},
   "outputs": [],
   "source": [
    "import pandas as pd\n",
    "import calendar\n",
    "import numpy as np\n",
    "import datetime\n",
    "from numpy import random\n",
    "import matplotlib.pyplot as plt\n",
    "import seaborn as sns\n",
    "import os"
   ]
  },
  {
   "cell_type": "code",
   "execution_count": 33,
   "id": "6f794794-3b20-4a01-a2bb-cd67001a84b0",
   "metadata": {},
   "outputs": [
    {
     "name": "stdout",
     "output_type": "stream",
     "text": [
      "C:\\Users\\alena\\OneDrive\\Documents\\DATA 6505\\Real-Estate-Market-CT\\All Workbooks\n"
     ]
    }
   ],
   "source": [
    "file_directory = os.getcwd()\n",
    "print(file_directory)"
   ]
  },
  {
   "cell_type": "code",
   "execution_count": 34,
   "id": "bd026d14-fba1-42c2-8ff3-7e4ebf930068",
   "metadata": {},
   "outputs": [],
   "source": [
    "os.chdir(file_directory)"
   ]
  },
  {
   "cell_type": "markdown",
   "id": "91050e0b-1d19-462d-b1c2-23f1a47aa3cd",
   "metadata": {},
   "source": [
    "Loading CT_house_sizes dataset"
   ]
  },
  {
   "cell_type": "code",
   "execution_count": 35,
   "id": "db3add85-5e1c-4d3a-ac36-d4dd75d910e4",
   "metadata": {},
   "outputs": [],
   "source": [
    "house_size = 'CT house sizes_sold_2001_2020.csv'\n",
    "house_size_path = os.path.join('DataSets', house_size)"
   ]
  },
  {
   "cell_type": "code",
   "execution_count": 36,
   "id": "24affe30-a19f-43b9-a958-c818f82c13df",
   "metadata": {},
   "outputs": [
    {
     "data": {
      "text/plain": [
       "'DataSets\\\\CT house sizes_sold_2001_2020.csv'"
      ]
     },
     "execution_count": 36,
     "metadata": {},
     "output_type": "execute_result"
    }
   ],
   "source": [
    "house_size_path"
   ]
  },
  {
   "cell_type": "code",
   "execution_count": 42,
   "id": "b4a80dce-7dd2-4e1a-b8a4-2d58f43768bc",
   "metadata": {},
   "outputs": [],
   "source": [
    "dtype_house_size = {'status': str,\n",
    "    'bed': float,\n",
    "    'bath': float,\n",
    "    'acre_lot': float,\n",
    "    'city': str,\n",
    "    'state': str,\n",
    "    'zip_code': float,\n",
    "    'house_size': float,\n",
    "    'prev_sold_date': str,\n",
    "    'price': float}"
   ]
  },
  {
   "cell_type": "code",
   "execution_count": 43,
   "id": "2fe8812f-ab15-4ab3-9609-47b59f66a426",
   "metadata": {},
   "outputs": [],
   "source": [
    "house_size_df = pd.read_csv(house_size_path, dtype=dtype_house_size)"
   ]
  },
  {
   "cell_type": "markdown",
   "id": "7a9cfca6-0035-4670-a0cd-b024131008e1",
   "metadata": {},
   "source": [
    "After loading the dataset, investigating the dataset shape and missing values"
   ]
  },
  {
   "cell_type": "code",
   "execution_count": 45,
   "id": "6dd0c412-9c8f-455e-9774-526a72ba7610",
   "metadata": {},
   "outputs": [
    {
     "data": {
      "text/plain": [
       "(43121, 10)"
      ]
     },
     "execution_count": 45,
     "metadata": {},
     "output_type": "execute_result"
    }
   ],
   "source": [
    "house_size_df.shape"
   ]
  },
  {
   "cell_type": "code",
   "execution_count": 46,
   "id": "8a70b3bb-3e21-43ba-9624-242be003d2f4",
   "metadata": {},
   "outputs": [
    {
     "data": {
      "text/plain": [
       "status               0\n",
       "bed                622\n",
       "bath               656\n",
       "acre_lot          6531\n",
       "city                 0\n",
       "state                0\n",
       "zip_code             0\n",
       "house_size           0\n",
       "prev_sold_date       0\n",
       "price                0\n",
       "dtype: int64"
      ]
     },
     "execution_count": 46,
     "metadata": {},
     "output_type": "execute_result"
    }
   ],
   "source": [
    "# missing value\n",
    "house_size_df.isnull().sum()"
   ]
  },
  {
   "cell_type": "markdown",
   "id": "2238eb2e-8c18-46a4-b6a6-6f61b97eb922",
   "metadata": {},
   "source": [
    "We can see that our dataset has bed, bath and acre_lot columns with missing data in it.\n",
    "\n",
    "We should drop N/A's for bed and bath, so these records don't impact our statistical metrics.\n",
    "We will consider acre_lot N/A's going forward if needed. "
   ]
  },
  {
   "cell_type": "code",
   "execution_count": 49,
   "id": "29a6cbbc-143a-484a-a2fa-934a7ea8b66b",
   "metadata": {},
   "outputs": [],
   "source": [
    "house_size_df.dropna(subset=[\"bed\",\"bath\"],inplace=True)"
   ]
  },
  {
   "cell_type": "code",
   "execution_count": 50,
   "id": "e4a7bdee-ba58-4593-b58b-88b196179a7d",
   "metadata": {},
   "outputs": [
    {
     "data": {
      "text/plain": [
       "status               0\n",
       "bed                  0\n",
       "bath                 0\n",
       "acre_lot          6517\n",
       "city                 0\n",
       "state                0\n",
       "zip_code             0\n",
       "house_size           0\n",
       "prev_sold_date       0\n",
       "price                0\n",
       "dtype: int64"
      ]
     },
     "execution_count": 50,
     "metadata": {},
     "output_type": "execute_result"
    }
   ],
   "source": [
    "house_size_df.isnull().sum()"
   ]
  },
  {
   "cell_type": "code",
   "execution_count": 51,
   "id": "ec77f0c4-b643-4005-bcb6-4913b2a4ddff",
   "metadata": {},
   "outputs": [
    {
     "data": {
      "text/plain": [
       "(42424, 10)"
      ]
     },
     "execution_count": 51,
     "metadata": {},
     "output_type": "execute_result"
    }
   ],
   "source": [
    "# shape after cleaning the dataset\n",
    "house_size_df.shape"
   ]
  },
  {
   "cell_type": "markdown",
   "id": "a3b50ae3-8ddc-4553-b00f-cb2e97a7dca6",
   "metadata": {},
   "source": [
    "Now with a cleaner dataset we can calculate **the average price per sq ft per each town**.\n",
    "\n",
    "**Note: the dataset has it as 'city' column.**"
   ]
  },
  {
   "cell_type": "code",
   "execution_count": 52,
   "id": "c4407a3a-423f-4ef6-8400-d628532b7951",
   "metadata": {},
   "outputs": [
    {
     "data": {
      "text/plain": [
       "city\n",
       "Andover          335.34\n",
       "Ansonia          184.77\n",
       "Ashford          184.85\n",
       "Avon             216.77\n",
       "Barkhamsted      181.83\n",
       "                  ...  \n",
       "Windsor Locks    164.36\n",
       "Wolcott          182.92\n",
       "Woodbridge       224.24\n",
       "Woodbury         234.89\n",
       "Woodstock        968.96\n",
       "Length: 171, dtype: float64"
      ]
     },
     "execution_count": 52,
     "metadata": {},
     "output_type": "execute_result"
    }
   ],
   "source": [
    "average_price_per_city = house_size_df.groupby('city')['price'].mean()\n",
    "average_size_per_city = house_size_df.groupby('city')['house_size'].mean()\n",
    "average_price_per_sqft = average_price_per_city / average_size_per_city\n",
    "average_price_per_sqft.round(2)"
   ]
  },
  {
   "cell_type": "code",
   "execution_count": 53,
   "id": "2750f9a2-9ca7-46c5-97a7-aab822443b69",
   "metadata": {},
   "outputs": [
    {
     "data": {
      "text/plain": [
       "city\n",
       "Andover          $335.34\n",
       "Ansonia          $184.77\n",
       "Ashford          $184.85\n",
       "Avon             $216.77\n",
       "Barkhamsted      $181.83\n",
       "                  ...   \n",
       "Windsor Locks    $164.36\n",
       "Wolcott          $182.92\n",
       "Woodbridge       $224.24\n",
       "Woodbury         $234.89\n",
       "Woodstock        $968.96\n",
       "Length: 171, dtype: object"
      ]
     },
     "execution_count": 53,
     "metadata": {},
     "output_type": "execute_result"
    }
   ],
   "source": [
    "formatted_average_price_per_sqft = average_price_per_sqft.map('${:,.2f}'.format)\n",
    "formatted_average_price_per_sqft"
   ]
  },
  {
   "cell_type": "code",
   "execution_count": 55,
   "id": "c1eedb2a-f2a4-4087-b454-a981f5523ae9",
   "metadata": {},
   "outputs": [],
   "source": [
    "most_expensive_sqft = average_price_per_sqft.idxmax()\n",
    "least_expensive_sqft = average_price_per_sqft.idxmin()"
   ]
  },
  {
   "cell_type": "code",
   "execution_count": 58,
   "id": "ac50015e-5f33-4a66-b362-0c284ec39d9b",
   "metadata": {},
   "outputs": [
    {
     "data": {
      "text/plain": [
       "'Woodstock'"
      ]
     },
     "execution_count": 58,
     "metadata": {},
     "output_type": "execute_result"
    }
   ],
   "source": [
    "# this is per sq ft only\n",
    "most_expensive_sqft"
   ]
  },
  {
   "cell_type": "code",
   "execution_count": 59,
   "id": "a9f569ce-96ed-49f4-bcc8-80a0efd29861",
   "metadata": {},
   "outputs": [
    {
     "data": {
      "text/plain": [
       "'Storrs'"
      ]
     },
     "execution_count": 59,
     "metadata": {},
     "output_type": "execute_result"
    }
   ],
   "source": [
    "least_expensive_sqft"
   ]
  },
  {
   "cell_type": "markdown",
   "id": "21402f90-7809-4d7c-86dd-33d2c2ab92aa",
   "metadata": {},
   "source": [
    "We can see that Woodstock has the highest average price per sq ft and Storrs the lowest. The Town Of Woodstock located in the northeastern area of Connecticut and on the Massachusetts border. \n",
    "However, we should account that this doesn't mean the average sale price per town. Many other rich areas in CT have massive houses.\n",
    "\n",
    "Now let's review average sale price per each town:"
   ]
  },
  {
   "cell_type": "code",
   "execution_count": 60,
   "id": "dec3ab72-e385-49cf-8442-c8854c771681",
   "metadata": {},
   "outputs": [
    {
     "data": {
      "text/plain": [
       "city\n",
       "Andover           334000.00\n",
       "Ansonia           278733.60\n",
       "Ashford           273980.85\n",
       "Avon              611394.28\n",
       "Barkhamsted       415521.74\n",
       "                    ...    \n",
       "Windsor Locks     224032.20\n",
       "Wolcott           341714.58\n",
       "Woodbridge        649502.82\n",
       "Woodbury          720169.92\n",
       "Woodstock        2681968.31\n",
       "Name: price, Length: 171, dtype: float64"
      ]
     },
     "execution_count": 60,
     "metadata": {},
     "output_type": "execute_result"
    }
   ],
   "source": [
    "average_price_per_city = house_size_df.groupby('city')['price'].mean()\n",
    "average_price_per_city.round(2)"
   ]
  },
  {
   "cell_type": "code",
   "execution_count": 61,
   "id": "534db544-c199-4bac-a00c-a7c7cf5561e2",
   "metadata": {},
   "outputs": [],
   "source": [
    "# now we have most and least expensive towns per aver price\n",
    "most_expensive_town = average_price_per_city.idxmax()\n",
    "least_expensive_town = average_price_per_city.idxmin()"
   ]
  },
  {
   "cell_type": "code",
   "execution_count": 62,
   "id": "a9e8b015-d342-4bf0-8a0c-846dc40c410e",
   "metadata": {},
   "outputs": [
    {
     "data": {
      "text/plain": [
       "'Greenwich'"
      ]
     },
     "execution_count": 62,
     "metadata": {},
     "output_type": "execute_result"
    }
   ],
   "source": [
    "most_expensive_town"
   ]
  },
  {
   "cell_type": "code",
   "execution_count": 63,
   "id": "453987cd-d422-4052-90e6-882013d6ba15",
   "metadata": {},
   "outputs": [
    {
     "data": {
      "text/plain": [
       "'Storrs'"
      ]
     },
     "execution_count": 63,
     "metadata": {},
     "output_type": "execute_result"
    }
   ],
   "source": [
    "least_expensive_town"
   ]
  },
  {
   "cell_type": "markdown",
   "id": "90037371-745a-459d-a618-579aa898ebfe",
   "metadata": {},
   "source": [
    "We can see that the most expesive town to live in is Greenwich based on the dataset provided.\n",
    "The least expensive town is Storrs. "
   ]
  },
  {
   "cell_type": "code",
   "execution_count": 64,
   "id": "393f3e7c-0c3c-4e4d-be71-35b7895cb5a4",
   "metadata": {},
   "outputs": [],
   "source": [
    "top_10_most_expensive = average_price_per_city.nlargest(10)\n",
    "top_10_least_expensive = average_price_per_city.nsmallest(10)"
   ]
  },
  {
   "cell_type": "code",
   "execution_count": 65,
   "id": "00bc2e24-8b3a-4f67-8732-7c5ce0061cb3",
   "metadata": {},
   "outputs": [
    {
     "data": {
      "text/plain": [
       "city\n",
       "Greenwich     4670063.80\n",
       "New Canaan    3341620.78\n",
       "Westport      2941201.31\n",
       "Riverside     2770303.03\n",
       "Woodstock     2681968.31\n",
       "Kent          2615972.00\n",
       "Redding       2398098.41\n",
       "Washington    2302844.83\n",
       "Salisbury     2191190.48\n",
       "Roxbury       1801547.95\n",
       "Name: price, dtype: float64"
      ]
     },
     "execution_count": 65,
     "metadata": {},
     "output_type": "execute_result"
    }
   ],
   "source": [
    "top_10_most_expensive.round(2)"
   ]
  },
  {
   "cell_type": "code",
   "execution_count": 66,
   "id": "87c3d8ae-49c7-45e7-b321-da906ed1c871",
   "metadata": {},
   "outputs": [
    {
     "data": {
      "text/plain": [
       "city\n",
       "Storrs            73612.90\n",
       "Windham          180910.59\n",
       "Norwich          190970.40\n",
       "Eastford         210618.75\n",
       "Torrington       217656.16\n",
       "Waterbury        220334.82\n",
       "East Hartford    222167.81\n",
       "Windsor Locks    224032.20\n",
       "Plainville       225811.62\n",
       "Hartford         227645.00\n",
       "Name: price, dtype: float64"
      ]
     },
     "execution_count": 66,
     "metadata": {},
     "output_type": "execute_result"
    }
   ],
   "source": [
    "top_10_least_expensive.round(2)"
   ]
  },
  {
   "cell_type": "markdown",
   "id": "27016935-f98a-42ab-a263-c1978c5632e3",
   "metadata": {},
   "source": [
    "The above are top 10 most and least expensive towns per its average house price sold during 2001-2020.\n",
    "\n",
    "Let's make it more visual using matplotlip package.\n",
    "The most expesive houses are shown in millions and the least expensive are in thousands of dollars. "
   ]
  },
  {
   "cell_type": "code",
   "execution_count": 67,
   "id": "279f0b0f-a690-4b0a-b853-c71fb2c9501c",
   "metadata": {},
   "outputs": [
    {
     "data": {
      "image/png": "[encoded data removed]",
      "text/plain": [
       "<Figure size 800x600 with 2 Axes>"
      ]
     },
     "metadata": {},
     "output_type": "display_data"
    }
   ],
   "source": [
    "import matplotlib.pyplot as plt\n",
    "average_price_per_city = house_size_df.groupby('city')['price'].mean()\n",
    "\n",
    "top_10_most_expensive = average_price_per_city.nlargest(10)\n",
    "top_10_least_expensive = average_price_per_city.nsmallest(10)\n",
    "\n",
    "fig, axes = plt.subplots(nrows=2, ncols=1, figsize=(8, 6))\n",
    "\n",
    "# most expensive\n",
    "axes[0].bar(top_10_most_expensive.index, top_10_most_expensive.values, color='green')\n",
    "axes[0].set_title('Top 10 Most Expensive Towns')\n",
    "axes[0].set_ylabel('Average Sold Price')\n",
    "axes[0].tick_params(axis='x', rotation=45) \n",
    "\n",
    "# least expensive\n",
    "axes[1].bar(top_10_least_expensive.index, top_10_least_expensive.values, color='orange')\n",
    "axes[1].set_title('Top 10 Least Expensive Towns')\n",
    "axes[1].set_ylabel('Average Sold Price')\n",
    "axes[1].tick_params(axis='x', rotation=45)\n",
    "\n",
    "plt.tight_layout()\n",
    "plt.show()"
   ]
  },
  {
   "cell_type": "markdown",
   "id": "5a14676a-ad22-4491-afba-94ccb15583e3",
   "metadata": {},
   "source": [
    "Here are some more statistical data for curiosity:"
   ]
  },
  {
   "cell_type": "code",
   "execution_count": 68,
   "id": "19bc383c-d65b-47e9-8b85-710dd14eb40b",
   "metadata": {},
   "outputs": [
    {
     "data": {
      "text/plain": [
       "city\n",
       "Andover          3.0\n",
       "Ansonia          3.5\n",
       "Ashford          3.0\n",
       "Avon             3.4\n",
       "Barkhamsted      3.0\n",
       "                ... \n",
       "Windsor Locks    3.0\n",
       "Wolcott          3.3\n",
       "Woodbridge       3.7\n",
       "Woodbury         3.5\n",
       "Woodstock        3.5\n",
       "Name: bed, Length: 171, dtype: float64"
      ]
     },
     "execution_count": 68,
     "metadata": {},
     "output_type": "execute_result"
    }
   ],
   "source": [
    "average_beds_per_town = house_size_df.groupby('city')['bed'].mean()\n",
    "average_beds_per_town.round(1)"
   ]
  },
  {
   "cell_type": "code",
   "execution_count": 89,
   "id": "327592de-6733-4243-b516-fba28804a110",
   "metadata": {},
   "outputs": [],
   "source": [
    "towns_highest_beds = house_size_df.groupby('city')['bed'].sum().idxmax()\n",
    "towns_lowest_beds = house_size_df.groupby('city')['bed'].sum().idxmin()"
   ]
  },
  {
   "cell_type": "code",
   "execution_count": 91,
   "id": "41851c12-bb96-47df-b42b-f71fc7d8f901",
   "metadata": {},
   "outputs": [
    {
     "data": {
      "text/plain": [
       "'Hartford'"
      ]
     },
     "execution_count": 91,
     "metadata": {},
     "output_type": "execute_result"
    }
   ],
   "source": [
    "towns_highest_beds"
   ]
  },
  {
   "cell_type": "code",
   "execution_count": 92,
   "id": "38c9cefb-03c7-47f2-a5a3-fa5e65db5ebc",
   "metadata": {},
   "outputs": [
    {
     "data": {
      "text/plain": [
       "'Union'"
      ]
     },
     "execution_count": 92,
     "metadata": {},
     "output_type": "execute_result"
    }
   ],
   "source": [
    "towns_lowest_beds"
   ]
  },
  {
   "cell_type": "code",
   "execution_count": null,
   "id": "4d83e408-1837-4034-af2d-0cdace9210c0",
   "metadata": {},
   "outputs": [],
   "source": []
  }
 ],
 "metadata": {
  "kernelspec": {
   "display_name": "Python 3 (ipykernel)",
   "language": "python",
   "name": "python3"
  },
  "language_info": {
   "codemirror_mode": {
    "name": "ipython",
    "version": 3
   },
   "file_extension": ".py",
   "mimetype": "text/x-python",
   "name": "python",
   "nbconvert_exporter": "python",
   "pygments_lexer": "ipython3",
   "version": "3.8.18"
  }
 },
 "nbformat": 4,
 "nbformat_minor": 5
}

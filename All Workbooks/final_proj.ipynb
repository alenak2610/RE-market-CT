{
 "cells": [
  {
   "cell_type": "code",
   "execution_count": 19,
   "id": "73f3854c-54ad-4415-a9c4-7549df0fb60a",
   "metadata": {},
   "outputs": [],
   "source": [
    "import pandas as pd\n",
    "import numpy as np\n",
    "from numpy import random\n",
    "import matplotlib.pyplot as plt\n",
    "import plotly.express as px\n",
    "import os"
   ]
  },
  {
   "cell_type": "markdown",
   "id": "c7b95d68-c95e-473c-92ef-6752f5bf9432",
   "metadata": {},
   "source": [
    "Setting working directory"
   ]
  },
  {
   "cell_type": "code",
   "execution_count": 20,
   "id": "2055d860-ffe0-47c4-bc11-9e542eca9bc7",
   "metadata": {},
   "outputs": [],
   "source": [
    "os.chdir('/Users/jesseveilleux/Desktop/RE-market-CT/All Workbooks')"
   ]
  },
  {
   "cell_type": "code",
   "execution_count": 21,
   "id": "3aa88cce-e087-4abf-b8d5-2dcd4761d653",
   "metadata": {},
   "outputs": [
    {
     "name": "stdout",
     "output_type": "stream",
     "text": [
      "/Users/jesseveilleux/Desktop/RE-market-CT/All Workbooks\n"
     ]
    }
   ],
   "source": [
    "print(os.getcwd())"
   ]
  },
  {
   "cell_type": "markdown",
   "id": "c3f53b21-d9a5-480d-86d9-825446d7161e",
   "metadata": {},
   "source": [
    "Loading housing data"
   ]
  },
  {
   "cell_type": "code",
   "execution_count": 22,
   "id": "1aa07be1-e1cb-462b-bf83-a993ed66fd77",
   "metadata": {},
   "outputs": [],
   "source": [
    "house_name = 'House Prices 2001-2020 in CT.csv'\n",
    "house_path = os.path.join('DataSets', house_name)"
   ]
  },
  {
   "cell_type": "code",
   "execution_count": 23,
   "id": "3ad9cb74-270c-4e51-85ff-b8aaeb10d888",
   "metadata": {},
   "outputs": [
    {
     "data": {
      "text/plain": [
       "'DataSets/House Prices 2001-2020 in CT.csv'"
      ]
     },
     "execution_count": 23,
     "metadata": {},
     "output_type": "execute_result"
    }
   ],
   "source": [
    "house_path"
   ]
  },
  {
   "cell_type": "code",
   "execution_count": 24,
   "id": "b1e0b816-a38a-4600-8fa2-1556a0deb7ad",
   "metadata": {},
   "outputs": [],
   "source": [
    "dtype_housing = {'Serial Number': int,\n",
    "    'List Year': int,\n",
    "    'Date Recorded': str,\n",
    "    'Town': str,\n",
    "    'Address': str,\n",
    "    'Assessed Value': float,\n",
    "    'Sale Amount': float,\n",
    "    'Sales Ratio': float,\n",
    "    'Property Type': str,\n",
    "    'Residential Type': str,\n",
    "    'Non Use Code': str,\n",
    "    'Assessor Remarks': str,\n",
    "    'OPM remarks': str,\n",
    "    'Location': str}"
   ]
  },
  {
   "cell_type": "code",
   "execution_count": 25,
   "id": "6e726dfe-1b31-49ff-97d4-9b469632b062",
   "metadata": {},
   "outputs": [],
   "source": [
    "housing_df = pd.read_csv(house_path, dtype=dtype_housing)"
   ]
  },
  {
   "cell_type": "markdown",
   "id": "d6cd1a9d-6630-4c03-ac6e-bf5d6f9b0af4",
   "metadata": {},
   "source": [
    "The housing data was loaded and data types were identified "
   ]
  },
  {
   "cell_type": "markdown",
   "id": "be229db2-a42a-4c8b-9ae3-1179c0506399",
   "metadata": {},
   "source": [
    "Exploring the data to check columns and years in data"
   ]
  },
  {
   "cell_type": "code",
   "execution_count": 26,
   "id": "80b1122e-fe41-43b3-a6db-780b9895e988",
   "metadata": {},
   "outputs": [
    {
     "data": {
      "text/plain": [
       "Index(['Serial Number', 'List Year', 'Date Recorded', 'Town', 'Address',\n",
       "       'Assessed Value', 'Sale Amount', 'Sales Ratio', 'Property Type',\n",
       "       'Residential Type', 'Non Use Code', 'Assessor Remarks', 'OPM remarks',\n",
       "       'Location'],\n",
       "      dtype='object')"
      ]
     },
     "execution_count": 26,
     "metadata": {},
     "output_type": "execute_result"
    }
   ],
   "source": [
    "housing_df.columns"
   ]
  },
  {
   "cell_type": "code",
   "execution_count": 27,
   "id": "ecd1607f-5b94-4ce9-8cf9-4912a5913d6c",
   "metadata": {},
   "outputs": [
    {
     "name": "stdout",
     "output_type": "stream",
     "text": [
      "[2001, 2002, 2003, 2004, 2005, 2006, 2007, 2008, 2009, 2010, 2011, 2012, 2013, 2014, 2015, 2016, 2017, 2018, 2019, 2020]\n"
     ]
    }
   ],
   "source": [
    "sorted_years = sorted(housing_df['List Year'].unique())\n",
    "print(sorted_years)"
   ]
  },
  {
   "cell_type": "markdown",
   "id": "da0c6e82-8209-4ecb-9497-19822f779dfc",
   "metadata": {},
   "source": [
    "Verified unique years in dataset"
   ]
  },
  {
   "cell_type": "markdown",
   "id": "f168b88b-0b73-4f69-a168-8b0f309b226f",
   "metadata": {},
   "source": [
    "Load and merge CTDOT data with housing data"
   ]
  },
  {
   "cell_type": "code",
   "execution_count": 28,
   "id": "25dfb4cc-6a00-4c63-8c47-b2aa169e0b61",
   "metadata": {},
   "outputs": [],
   "source": [
    "DOT_name = 'CTDOT_State_Routes_and_Local_Roads.csv'\n",
    "DOT_path = os.path.join('DataSets', DOT_name)\n",
    "DOT_df = pd.read_csv(DOT_path)"
   ]
  },
  {
   "cell_type": "code",
   "execution_count": 29,
   "id": "98a5016a-f3ff-43c7-a60a-c7d4cbd6e43b",
   "metadata": {},
   "outputs": [],
   "source": [
    "merge_df = pd.merge(housing_df, DOT_df, how='inner', left_on='Serial Number', right_on='OBJECTID')"
   ]
  },
  {
   "cell_type": "code",
   "execution_count": 30,
   "id": "0ba44086-d4e1-47cf-9c44-7b8728b4d072",
   "metadata": {},
   "outputs": [
    {
     "data": {
      "text/plain": [
       "Index(['Serial Number', 'List Year', 'Date Recorded', 'Town', 'Address',\n",
       "       'Assessed Value', 'Sale Amount', 'Sales Ratio', 'Property Type',\n",
       "       'Residential Type', 'Non Use Code', 'Assessor Remarks', 'OPM remarks',\n",
       "       'Location', 'OBJECTID', 'ROUTE_ID', 'BEGIN_POINT', 'END_POINT',\n",
       "       'ROUTE_DIR', 'ROUTE_PREFIX', 'ROUTE_NUMBER', 'ROUTE_SUFFIX',\n",
       "       'RAMP_NUMBER', 'RAMP_SUFFIX', 'ROAD_TYPE', 'TOWN_NUMBER', 'TOWN_NAME',\n",
       "       'PRI_SEC_STATUS', 'YEAR', 'GlobalID', 'Shape__Length'],\n",
       "      dtype='object')"
      ]
     },
     "execution_count": 30,
     "metadata": {},
     "output_type": "execute_result"
    }
   ],
   "source": [
    "merge_df.columns"
   ]
  },
  {
   "cell_type": "code",
   "execution_count": 31,
   "id": "8015475f-c483-40b0-a340-d16a54b07ea6",
   "metadata": {},
   "outputs": [],
   "source": [
    "# confirm ID and S/N are equal\n",
    "#matching_rows = merge_df[['Serial Number', 'OBJECTID']]\n",
    "#matching_rows"
   ]
  },
  {
   "cell_type": "markdown",
   "id": "ab61b9c6-14ac-440b-9de7-484fb8101757",
   "metadata": {},
   "source": [
    "Merged data on common column "
   ]
  },
  {
   "cell_type": "markdown",
   "id": "a16aa0a2-0039-4706-a3c2-eef1b81e6327",
   "metadata": {},
   "source": [
    "Extract year and month from 'Date Recorded' column"
   ]
  },
  {
   "cell_type": "code",
   "execution_count": 32,
   "id": "1ec4e7d3-d57e-4dc0-a61c-e954fc8f1eb7",
   "metadata": {},
   "outputs": [],
   "source": [
    "housing_df['Date Recorded'] = pd.to_datetime(housing_df['Date Recorded'])\n",
    "\n",
    "housing_df['Year'] = housing_df['Date Recorded'].dt.year\n",
    "housing_df['Month'] = housing_df['Date Recorded'].dt.month"
   ]
  },
  {
   "cell_type": "markdown",
   "id": "9bd06a8a-425b-42c5-ae58-91c448d71fd5",
   "metadata": {},
   "source": [
    "Analyze monthly house sales"
   ]
  },
  {
   "cell_type": "code",
   "execution_count": 33,
   "id": "cf7f6e74-81cb-48ef-b152-d6566931151e",
   "metadata": {},
   "outputs": [],
   "source": [
    "houses_sold = housing_df.groupby(['Year','Month']).size().reset_index(name='HousesSold')"
   ]
  },
  {
   "cell_type": "code",
   "execution_count": 34,
   "id": "e84249da-d7f5-4967-b9fd-1c68abd710c5",
   "metadata": {},
   "outputs": [],
   "source": [
    "# Calculate the total number of houses sold per month\n",
    "monthly_sales = houses_sold.groupby('Month')['HousesSold'].sum().reset_index(name='TotalSales')"
   ]
  },
  {
   "cell_type": "code",
   "execution_count": 35,
   "id": "ad26599a-5fd3-46ae-9030-7ffe014af7bd",
   "metadata": {},
   "outputs": [
    {
     "data": {
      "text/html": [
       "<div>\n",
       "<style scoped>\n",
       "    .dataframe tbody tr th:only-of-type {\n",
       "        vertical-align: middle;\n",
       "    }\n",
       "\n",
       "    .dataframe tbody tr th {\n",
       "        vertical-align: top;\n",
       "    }\n",
       "\n",
       "    .dataframe thead th {\n",
       "        text-align: right;\n",
       "    }\n",
       "</style>\n",
       "<table border=\"1\" class=\"dataframe\">\n",
       "  <thead>\n",
       "    <tr style=\"text-align: right;\">\n",
       "      <th></th>\n",
       "      <th>Month</th>\n",
       "      <th>TotalSales</th>\n",
       "    </tr>\n",
       "  </thead>\n",
       "  <tbody>\n",
       "    <tr>\n",
       "      <th>5</th>\n",
       "      <td>6.0</td>\n",
       "      <td>103461</td>\n",
       "    </tr>\n",
       "    <tr>\n",
       "      <th>6</th>\n",
       "      <td>7.0</td>\n",
       "      <td>102691</td>\n",
       "    </tr>\n",
       "    <tr>\n",
       "      <th>7</th>\n",
       "      <td>8.0</td>\n",
       "      <td>101953</td>\n",
       "    </tr>\n",
       "    <tr>\n",
       "      <th>4</th>\n",
       "      <td>5.0</td>\n",
       "      <td>87843</td>\n",
       "    </tr>\n",
       "    <tr>\n",
       "      <th>9</th>\n",
       "      <td>10.0</td>\n",
       "      <td>87499</td>\n",
       "    </tr>\n",
       "    <tr>\n",
       "      <th>8</th>\n",
       "      <td>9.0</td>\n",
       "      <td>86764</td>\n",
       "    </tr>\n",
       "    <tr>\n",
       "      <th>11</th>\n",
       "      <td>12.0</td>\n",
       "      <td>82380</td>\n",
       "    </tr>\n",
       "    <tr>\n",
       "      <th>10</th>\n",
       "      <td>11.0</td>\n",
       "      <td>78256</td>\n",
       "    </tr>\n",
       "    <tr>\n",
       "      <th>3</th>\n",
       "      <td>4.0</td>\n",
       "      <td>76364</td>\n",
       "    </tr>\n",
       "    <tr>\n",
       "      <th>2</th>\n",
       "      <td>3.0</td>\n",
       "      <td>71821</td>\n",
       "    </tr>\n",
       "    <tr>\n",
       "      <th>0</th>\n",
       "      <td>1.0</td>\n",
       "      <td>63155</td>\n",
       "    </tr>\n",
       "    <tr>\n",
       "      <th>1</th>\n",
       "      <td>2.0</td>\n",
       "      <td>55024</td>\n",
       "    </tr>\n",
       "  </tbody>\n",
       "</table>\n",
       "</div>"
      ],
      "text/plain": [
       "    Month  TotalSales\n",
       "5     6.0      103461\n",
       "6     7.0      102691\n",
       "7     8.0      101953\n",
       "4     5.0       87843\n",
       "9    10.0       87499\n",
       "8     9.0       86764\n",
       "11   12.0       82380\n",
       "10   11.0       78256\n",
       "3     4.0       76364\n",
       "2     3.0       71821\n",
       "0     1.0       63155\n",
       "1     2.0       55024"
      ]
     },
     "execution_count": 35,
     "metadata": {},
     "output_type": "execute_result"
    }
   ],
   "source": [
    "# Sort to find the most popular months\n",
    "most_popular_months = monthly_sales.sort_values(by='TotalSales', ascending=False)\n",
    "most_popular_months"
   ]
  },
  {
   "cell_type": "code",
   "execution_count": 49,
   "id": "bb2df096-747e-42b5-ad40-33c6409c9b74",
   "metadata": {},
   "outputs": [
    {
     "data": {
      "image/png": "[encoded data removed]",
      "text/plain": [
       "<Figure size 640x480 with 1 Axes>"
      ]
     },
     "metadata": {},
     "output_type": "display_data"
    }
   ],
   "source": [
    "monthly_houses_sold = houses_sold.groupby('Month')['HousesSold'].sum()\n",
    "plt.bar(monthly_houses_sold.index, monthly_houses_sold.values)\n",
    "plt.title(\"Monthly Total House Sales\")\n",
    "plt.xlabel(\"Month\")\n",
    "plt.ylabel(\"Total Houses Sold\")\n",
    "plt.show()"
   ]
  },
  {
   "cell_type": "markdown",
   "id": "e09ac4d3-aade-4adf-9f72-07273ac56473",
   "metadata": {},
   "source": [
    "The most popular months for house sales have been identified based on total sales"
   ]
  },
  {
   "cell_type": "markdown",
   "id": "abd6e3b0-e57a-47e3-b240-dc37513c3f96",
   "metadata": {},
   "source": [
    "Analyze yearly house sales"
   ]
  },
  {
   "cell_type": "code",
   "execution_count": 37,
   "id": "c4e0cf75-b9db-4f00-82b2-f64427bc01f0",
   "metadata": {},
   "outputs": [
    {
     "name": "stdout",
     "output_type": "stream",
     "text": [
      "Year with the Most Houses Sold: 2005.0\n",
      "Total Houses Sold: 79566\n"
     ]
    }
   ],
   "source": [
    "yearly_sales = houses_sold.groupby('Year')['HousesSold'].sum()\n",
    "\n",
    "# Find the year with the most houses sold\n",
    "most_sold_year = yearly_sales.nlargest(1)\n",
    "\n",
    "# Display the year with the most houses sold\n",
    "print(\"Year with the Most Houses Sold:\", most_sold_year.index[0])\n",
    "print(\"Total Houses Sold:\", most_sold_year.iloc[0])\n"
   ]
  },
  {
   "cell_type": "code",
   "execution_count": 38,
   "id": "8e898fdf-a341-4440-8983-f91ae6653896",
   "metadata": {},
   "outputs": [
    {
     "data": {
      "image/png": "[encoded data removed]",
      "text/plain": [
       "<Figure size 640x480 with 1 Axes>"
      ]
     },
     "metadata": {},
     "output_type": "display_data"
    }
   ],
   "source": [
    "plt.bar(yearly_sales.index, yearly_sales.values)\n",
    "plt.title(\"Yearly Total House Sales\")\n",
    "plt.xlabel(\"Year\")\n",
    "plt.ylabel(\"Total Houses Sold\")\n",
    "plt.show()"
   ]
  },
  {
   "cell_type": "code",
   "execution_count": 39,
   "id": "cc00e3c5-7eb6-4c73-8d38-6346b790f5fe",
   "metadata": {},
   "outputs": [
    {
     "name": "stdout",
     "output_type": "stream",
     "text": [
      "Year with the Least Houses Sold: 1999.0\n",
      "Total Houses Sold: 1\n"
     ]
    }
   ],
   "source": [
    "# Find the year with the least houses sold\n",
    "least_sold_year = yearly_sales.nsmallest(1)\n",
    "print(\"Year with the Least Houses Sold:\", least_sold_year.index[0])\n",
    "print(\"Total Houses Sold:\", least_sold_year.iloc[0])"
   ]
  },
  {
   "cell_type": "code",
   "execution_count": 40,
   "id": "52df3d29-e3c2-45da-b182-0905adeba8ce",
   "metadata": {},
   "outputs": [
    {
     "data": {
      "text/html": [
       "<div>\n",
       "<style scoped>\n",
       "    .dataframe tbody tr th:only-of-type {\n",
       "        vertical-align: middle;\n",
       "    }\n",
       "\n",
       "    .dataframe tbody tr th {\n",
       "        vertical-align: top;\n",
       "    }\n",
       "\n",
       "    .dataframe thead th {\n",
       "        text-align: right;\n",
       "    }\n",
       "</style>\n",
       "<table border=\"1\" class=\"dataframe\">\n",
       "  <thead>\n",
       "    <tr style=\"text-align: right;\">\n",
       "      <th></th>\n",
       "      <th>Year</th>\n",
       "      <th>Month</th>\n",
       "      <th>HousesSold</th>\n",
       "    </tr>\n",
       "  </thead>\n",
       "  <tbody>\n",
       "    <tr>\n",
       "      <th>0</th>\n",
       "      <td>1999.0</td>\n",
       "      <td>4.0</td>\n",
       "      <td>1</td>\n",
       "    </tr>\n",
       "    <tr>\n",
       "      <th>3</th>\n",
       "      <td>2001.0</td>\n",
       "      <td>10.0</td>\n",
       "      <td>5250</td>\n",
       "    </tr>\n",
       "    <tr>\n",
       "      <th>12</th>\n",
       "      <td>2002.0</td>\n",
       "      <td>7.0</td>\n",
       "      <td>6323</td>\n",
       "    </tr>\n",
       "    <tr>\n",
       "      <th>24</th>\n",
       "      <td>2003.0</td>\n",
       "      <td>7.0</td>\n",
       "      <td>6281</td>\n",
       "    </tr>\n",
       "    <tr>\n",
       "      <th>35</th>\n",
       "      <td>2004.0</td>\n",
       "      <td>6.0</td>\n",
       "      <td>7674</td>\n",
       "    </tr>\n",
       "    <tr>\n",
       "      <th>47</th>\n",
       "      <td>2005.0</td>\n",
       "      <td>6.0</td>\n",
       "      <td>8791</td>\n",
       "    </tr>\n",
       "    <tr>\n",
       "      <th>61</th>\n",
       "      <td>2006.0</td>\n",
       "      <td>8.0</td>\n",
       "      <td>5854</td>\n",
       "    </tr>\n",
       "    <tr>\n",
       "      <th>72</th>\n",
       "      <td>2007.0</td>\n",
       "      <td>7.0</td>\n",
       "      <td>4948</td>\n",
       "    </tr>\n",
       "    <tr>\n",
       "      <th>83</th>\n",
       "      <td>2008.0</td>\n",
       "      <td>6.0</td>\n",
       "      <td>3535</td>\n",
       "    </tr>\n",
       "    <tr>\n",
       "      <th>100</th>\n",
       "      <td>2009.0</td>\n",
       "      <td>11.0</td>\n",
       "      <td>4197</td>\n",
       "    </tr>\n",
       "    <tr>\n",
       "      <th>107</th>\n",
       "      <td>2010.0</td>\n",
       "      <td>6.0</td>\n",
       "      <td>5343</td>\n",
       "    </tr>\n",
       "    <tr>\n",
       "      <th>119</th>\n",
       "      <td>2011.0</td>\n",
       "      <td>6.0</td>\n",
       "      <td>3809</td>\n",
       "    </tr>\n",
       "    <tr>\n",
       "      <th>133</th>\n",
       "      <td>2012.0</td>\n",
       "      <td>8.0</td>\n",
       "      <td>3369</td>\n",
       "    </tr>\n",
       "    <tr>\n",
       "      <th>144</th>\n",
       "      <td>2013.0</td>\n",
       "      <td>7.0</td>\n",
       "      <td>4150</td>\n",
       "    </tr>\n",
       "    <tr>\n",
       "      <th>156</th>\n",
       "      <td>2014.0</td>\n",
       "      <td>7.0</td>\n",
       "      <td>4456</td>\n",
       "    </tr>\n",
       "    <tr>\n",
       "      <th>168</th>\n",
       "      <td>2015.0</td>\n",
       "      <td>7.0</td>\n",
       "      <td>5766</td>\n",
       "    </tr>\n",
       "    <tr>\n",
       "      <th>179</th>\n",
       "      <td>2016.0</td>\n",
       "      <td>6.0</td>\n",
       "      <td>5130</td>\n",
       "    </tr>\n",
       "    <tr>\n",
       "      <th>191</th>\n",
       "      <td>2017.0</td>\n",
       "      <td>6.0</td>\n",
       "      <td>5353</td>\n",
       "    </tr>\n",
       "    <tr>\n",
       "      <th>204</th>\n",
       "      <td>2018.0</td>\n",
       "      <td>7.0</td>\n",
       "      <td>4966</td>\n",
       "    </tr>\n",
       "    <tr>\n",
       "      <th>216</th>\n",
       "      <td>2019.0</td>\n",
       "      <td>7.0</td>\n",
       "      <td>5529</td>\n",
       "    </tr>\n",
       "    <tr>\n",
       "      <th>229</th>\n",
       "      <td>2020.0</td>\n",
       "      <td>8.0</td>\n",
       "      <td>7023</td>\n",
       "    </tr>\n",
       "    <tr>\n",
       "      <th>239</th>\n",
       "      <td>2021.0</td>\n",
       "      <td>6.0</td>\n",
       "      <td>6623</td>\n",
       "    </tr>\n",
       "  </tbody>\n",
       "</table>\n",
       "</div>"
      ],
      "text/plain": [
       "       Year  Month  HousesSold\n",
       "0    1999.0    4.0           1\n",
       "3    2001.0   10.0        5250\n",
       "12   2002.0    7.0        6323\n",
       "24   2003.0    7.0        6281\n",
       "35   2004.0    6.0        7674\n",
       "47   2005.0    6.0        8791\n",
       "61   2006.0    8.0        5854\n",
       "72   2007.0    7.0        4948\n",
       "83   2008.0    6.0        3535\n",
       "100  2009.0   11.0        4197\n",
       "107  2010.0    6.0        5343\n",
       "119  2011.0    6.0        3809\n",
       "133  2012.0    8.0        3369\n",
       "144  2013.0    7.0        4150\n",
       "156  2014.0    7.0        4456\n",
       "168  2015.0    7.0        5766\n",
       "179  2016.0    6.0        5130\n",
       "191  2017.0    6.0        5353\n",
       "204  2018.0    7.0        4966\n",
       "216  2019.0    7.0        5529\n",
       "229  2020.0    8.0        7023\n",
       "239  2021.0    6.0        6623"
      ]
     },
     "execution_count": 40,
     "metadata": {},
     "output_type": "execute_result"
    }
   ],
   "source": [
    "most_sold_month_per_year = houses_sold.sort_values('HousesSold', ascending=False).drop_duplicates('Year')\n",
    "most_sold_month_per_year = most_sold_month_per_year.sort_values('Year')\n",
    "most_sold_month_per_year"
   ]
  },
  {
   "cell_type": "markdown",
   "id": "c172c0ab-234e-4eda-bdeb-8bb9f2c38cca",
   "metadata": {},
   "source": [
    "Identified years with most and least houses sold"
   ]
  },
  {
   "cell_type": "markdown",
   "id": "61cf10a6-28a7-4326-92de-c2684a851175",
   "metadata": {},
   "source": [
    "Analyze the average cost of houses sold per year from 2001 to 2015"
   ]
  },
  {
   "cell_type": "code",
   "execution_count": 52,
   "id": "79adc876-03e4-47a5-9fe0-0d84e9004be6",
   "metadata": {},
   "outputs": [
    {
     "data": {
      "text/plain": [
       "List Year\n",
       "2001    246235.035160\n",
       "2002    296357.123706\n",
       "2003    327217.932922\n",
       "2004    380297.014169\n",
       "2005    364030.126084\n",
       "2006    475379.225385\n",
       "2007    435713.379734\n",
       "2008    325831.792393\n",
       "2009    355250.327162\n",
       "2010    331657.472575\n",
       "2011    391684.320747\n",
       "2012    395477.676013\n",
       "2013    413516.239641\n",
       "2014    401421.941220\n",
       "2015    345883.763949\n",
       "Name: Sale Amount, dtype: float64"
      ]
     },
     "execution_count": 52,
     "metadata": {},
     "output_type": "execute_result"
    }
   ],
   "source": [
    "cost_data = housing_df[(housing_df['List Year'] >= 2001) & (housing_df['List Year'] <= 2015)]\n",
    "avg_price_per_year = cost_data.groupby('List Year')['Sale Amount'].mean()\n",
    "avg_price_per_year"
   ]
  },
  {
   "cell_type": "code",
   "execution_count": 54,
   "id": "55f910ef-98b4-4c49-ba65-84f97674a7d9",
   "metadata": {},
   "outputs": [
    {
     "data": {
      "image/png": "[encoded data removed]",
      "text/plain": [
       "<Figure size 640x480 with 1 Axes>"
      ]
     },
     "metadata": {},
     "output_type": "display_data"
    }
   ],
   "source": [
    "plt.bar(avg_price_per_year.index, avg_price_per_year.values)\n",
    "plt.title(\"Average Sale Prices per Year (2001-2015)\")\n",
    "plt.xlabel(\"Year\")\n",
    "plt.ylabel(\"Average Sale Price\")\n",
    "plt.show()"
   ]
  },
  {
   "cell_type": "markdown",
   "id": "ecfe3e2f-c571-4348-992b-0cfcab7d847c",
   "metadata": {},
   "source": [
    "Display types of property"
   ]
  },
  {
   "cell_type": "code",
   "execution_count": 41,
   "id": "a8f3e92e-f751-47a5-83df-b2744bb0d358",
   "metadata": {},
   "outputs": [
    {
     "name": "stdout",
     "output_type": "stream",
     "text": [
      "     Property Type  TotalSales\n",
      "0       Apartments         486\n",
      "1       Commercial        1981\n",
      "2            Condo      105420\n",
      "3      Four Family        2150\n",
      "4       Industrial         228\n",
      "5   Public Utility           5\n",
      "6      Residential       60728\n",
      "7    Single Family      401612\n",
      "8     Three Family       12586\n",
      "9       Two Family       26408\n",
      "10     Vacant Land        3163\n"
     ]
    }
   ],
   "source": [
    "property_type_sales = housing_df.groupby('Property Type').size().reset_index(name='TotalSales')\n",
    "print(property_type_sales)"
   ]
  },
  {
   "cell_type": "code",
   "execution_count": 42,
   "id": "9e2bca32-d1cd-488c-928d-5451548a06ee",
   "metadata": {},
   "outputs": [
    {
     "name": "stdout",
     "output_type": "stream",
     "text": [
      "Most Sold Property Type: Single Family\n"
     ]
    }
   ],
   "source": [
    "property_type_sales = housing_df.groupby('Property Type').size().reset_index(name='TotalSales')\n",
    "property_type_sales_sorted = property_type_sales.sort_values(by='TotalSales', ascending=False)\n",
    "most_sold_property = property_type_sales_sorted.iloc[0]['Property Type']\n",
    "print(\"Most Sold Property Type:\", most_sold_property)"
   ]
  },
  {
   "cell_type": "code",
   "execution_count": 43,
   "id": "fc17c7e3-3afc-4c5d-93f6-ee28880e8dbc",
   "metadata": {},
   "outputs": [
    {
     "data": {
      "image/png": "[encoded data removed]",
      "text/plain": [
       "<Figure size 640x480 with 1 Axes>"
      ]
     },
     "metadata": {},
     "output_type": "display_data"
    }
   ],
   "source": [
    "top_3_property_types = property_type_sales_sorted.head(3)\n",
    "other_property_types = property_type_sales_sorted.iloc[3:]\n",
    "other_total_sales = other_property_types['TotalSales'].sum()\n",
    "grouped_data = pd.concat([top_3_property_types, pd.DataFrame({'Property Type': ['Other'], 'TotalSales': [other_total_sales]})])\n",
    "plt.pie(grouped_data['TotalSales'], labels=grouped_data['Property Type'])\n",
    "plt.title('Distribution of Property Types (Top 3 and Others)')\n",
    "plt.show() "
   ]
  },
  {
   "cell_type": "markdown",
   "id": "3ba2e15e-46ec-4364-a906-251866476b2e",
   "metadata": {},
   "source": [
    "Determined most sold property type"
   ]
  },
  {
   "cell_type": "markdown",
   "id": "d37e741e-7bf6-4346-9bdb-597a2a73b3f8",
   "metadata": {},
   "source": [
    "Analyze median price of houses on main roads"
   ]
  },
  {
   "cell_type": "code",
   "execution_count": 44,
   "id": "571cba52-1cc1-40ed-8472-5d5a15d4d2a6",
   "metadata": {
    "scrolled": true
   },
   "outputs": [
    {
     "data": {
      "text/plain": [
       "On_Main_Road\n",
       "False    189000.0\n",
       "True     195000.0\n",
       "Name: Sale Amount, dtype: float64"
      ]
     },
     "execution_count": 44,
     "metadata": {},
     "output_type": "execute_result"
    }
   ],
   "source": [
    "merge_df['On_Main_Road'] = merge_df['ROAD_TYPE'].str.contains('M', case=False, regex=True)\n",
    "median_prices = merge_df.groupby('On_Main_Road')['Sale Amount'].median()\n",
    "median_prices"
   ]
  },
  {
   "cell_type": "code",
   "execution_count": null,
   "id": "78bcfcdc-ea49-4f78-b5ab-344bff04e00b",
   "metadata": {},
   "outputs": [],
   "source": []
  }
 ],
 "metadata": {
  "kernelspec": {
   "display_name": "Python 3 (ipykernel)",
   "language": "python",
   "name": "python3"
  },
  "language_info": {
   "codemirror_mode": {
    "name": "ipython",
    "version": 3
   },
   "file_extension": ".py",
   "mimetype": "text/x-python",
   "name": "python",
   "nbconvert_exporter": "python",
   "pygments_lexer": "ipython3",
   "version": "3.8.18"
  }
 },
 "nbformat": 4,
 "nbformat_minor": 5
}
